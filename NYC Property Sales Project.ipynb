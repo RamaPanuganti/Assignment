{
 "cells": [
  {
   "cell_type": "markdown",
   "metadata": {},
   "source": [
    "# NYC Property Sales"
   ]
  },
  {
   "cell_type": "code",
   "execution_count": 83,
   "metadata": {},
   "outputs": [
    {
     "name": "stdout",
     "output_type": "stream",
     "text": [
      "   Unnamed: 0  BOROUGH   NEIGHBORHOOD  \\\n",
      "0           4        1  ALPHABET CITY   \n",
      "1           5        1  ALPHABET CITY   \n",
      "2           6        1  ALPHABET CITY   \n",
      "3           7        1  ALPHABET CITY   \n",
      "4           8        1  ALPHABET CITY   \n",
      "\n",
      "                       BUILDING CLASS CATEGORY TAX CLASS AT PRESENT  BLOCK  \\\n",
      "0  07 RENTALS - WALKUP APARTMENTS                                2A    392   \n",
      "1  07 RENTALS - WALKUP APARTMENTS                                 2    399   \n",
      "2  07 RENTALS - WALKUP APARTMENTS                                 2    399   \n",
      "3  07 RENTALS - WALKUP APARTMENTS                                2B    402   \n",
      "4  07 RENTALS - WALKUP APARTMENTS                                2A    404   \n",
      "\n",
      "   LOT EASE-MENT BUILDING CLASS AT PRESENT                 ADDRESS  \\\n",
      "0    6                                  C2            153 AVENUE B   \n",
      "1   26                                  C7   234 EAST 4TH   STREET   \n",
      "2   39                                  C7   197 EAST 3RD   STREET   \n",
      "3   21                                  C4     154 EAST 7TH STREET   \n",
      "4   55                                  C2  301 EAST 10TH   STREET   \n",
      "\n",
      "          ...          RESIDENTIAL UNITS  COMMERCIAL UNITS  TOTAL UNITS  \\\n",
      "0         ...                          5                 0            5   \n",
      "1         ...                         28                 3           31   \n",
      "2         ...                         16                 1           17   \n",
      "3         ...                         10                 0           10   \n",
      "4         ...                          6                 0            6   \n",
      "\n",
      "   LAND SQUARE FEET  GROSS SQUARE FEET YEAR BUILT TAX CLASS AT TIME OF SALE  \\\n",
      "0              1633               6440       1900                         2   \n",
      "1              4616              18690       1900                         2   \n",
      "2              2212               7803       1900                         2   \n",
      "3              2272               6794       1913                         2   \n",
      "4              2369               4615       1900                         2   \n",
      "\n",
      "   BUILDING CLASS AT TIME OF SALE  SALE PRICE            SALE DATE  \n",
      "0                              C2     6625000  2017-07-19 00:00:00  \n",
      "1                              C7         -    2016-12-14 00:00:00  \n",
      "2                              C7         -    2016-12-09 00:00:00  \n",
      "3                              C4     3936272  2016-09-23 00:00:00  \n",
      "4                              C2     8000000  2016-11-17 00:00:00  \n",
      "\n",
      "[5 rows x 22 columns]\n"
     ]
    }
   ],
   "source": [
    "import numpy as np\n",
    "import pandas as pd\n",
    "import collections\n",
    "import numpy\n",
    "import matplotlib.pyplot as plt\n",
    "from sklearn import metrics\n",
    "from collections import Counter\n",
    "\n",
    "df = pd.read_csv(\"C:\\\\Users\\\\ramae\\\\Documents\\\\Rprogramfolder\\\\nyc-rolling-sales.csv\")\n",
    "print(df.head(5))"
   ]
  },
  {
   "cell_type": "code",
   "execution_count": 84,
   "metadata": {},
   "outputs": [
    {
     "name": "stdout",
     "output_type": "stream",
     "text": [
      "(84548, 22)\n"
     ]
    }
   ],
   "source": [
    "print(df.shape)"
   ]
  },
  {
   "cell_type": "code",
   "execution_count": 85,
   "metadata": {},
   "outputs": [
    {
     "data": {
      "text/plain": [
       "Unnamed: 0                        0\n",
       "BOROUGH                           0\n",
       "NEIGHBORHOOD                      0\n",
       "BUILDING CLASS CATEGORY           0\n",
       "TAX CLASS AT PRESENT              0\n",
       "BLOCK                             0\n",
       "LOT                               0\n",
       "EASE-MENT                         0\n",
       "BUILDING CLASS AT PRESENT         0\n",
       "ADDRESS                           0\n",
       "APARTMENT NUMBER                  0\n",
       "ZIP CODE                          0\n",
       "RESIDENTIAL UNITS                 0\n",
       "COMMERCIAL UNITS                  0\n",
       "TOTAL UNITS                       0\n",
       "LAND SQUARE FEET                  0\n",
       "GROSS SQUARE FEET                 0\n",
       "YEAR BUILT                        0\n",
       "TAX CLASS AT TIME OF SALE         0\n",
       "BUILDING CLASS AT TIME OF SALE    0\n",
       "SALE PRICE                        0\n",
       "SALE DATE                         0\n",
       "dtype: int64"
      ]
     },
     "execution_count": 85,
     "metadata": {},
     "output_type": "execute_result"
    }
   ],
   "source": [
    "df.isnull().sum()"
   ]
  },
  {
   "cell_type": "code",
   "execution_count": 86,
   "metadata": {},
   "outputs": [
    {
     "name": "stdout",
     "output_type": "stream",
     "text": [
      "2\n"
     ]
    }
   ],
   "source": [
    " print(df.ndim)"
   ]
  },
  {
   "cell_type": "code",
   "execution_count": 38,
   "metadata": {},
   "outputs": [
    {
     "name": "stdout",
     "output_type": "stream",
     "text": [
      "<class 'pandas.core.frame.DataFrame'>\n",
      "RangeIndex: 84548 entries, 0 to 84547\n",
      "Data columns (total 22 columns):\n",
      "Unnamed: 0                        84548 non-null int64\n",
      "BOROUGH                           84548 non-null int64\n",
      "NEIGHBORHOOD                      84548 non-null object\n",
      "BUILDING CLASS CATEGORY           84548 non-null object\n",
      "TAX CLASS AT PRESENT              84548 non-null object\n",
      "BLOCK                             84548 non-null int64\n",
      "LOT                               84548 non-null int64\n",
      "EASE-MENT                         84548 non-null object\n",
      "BUILDING CLASS AT PRESENT         84548 non-null object\n",
      "ADDRESS                           84548 non-null object\n",
      "APARTMENT NUMBER                  84548 non-null object\n",
      "ZIP CODE                          84548 non-null int64\n",
      "RESIDENTIAL UNITS                 84548 non-null int64\n",
      "COMMERCIAL UNITS                  84548 non-null int64\n",
      "TOTAL UNITS                       84548 non-null int64\n",
      "LAND SQUARE FEET                  84548 non-null object\n",
      "GROSS SQUARE FEET                 84548 non-null object\n",
      "YEAR BUILT                        84548 non-null int64\n",
      "TAX CLASS AT TIME OF SALE         84548 non-null int64\n",
      "BUILDING CLASS AT TIME OF SALE    84548 non-null object\n",
      "SALE PRICE                        84548 non-null object\n",
      "SALE DATE                         84548 non-null object\n",
      "dtypes: int64(10), object(12)\n",
      "memory usage: 14.2+ MB\n"
     ]
    }
   ],
   "source": [
    "df.info()"
   ]
  },
  {
   "cell_type": "code",
   "execution_count": 87,
   "metadata": {},
   "outputs": [
    {
     "data": {
      "text/html": [
       "<div>\n",
       "<style scoped>\n",
       "    .dataframe tbody tr th:only-of-type {\n",
       "        vertical-align: middle;\n",
       "    }\n",
       "\n",
       "    .dataframe tbody tr th {\n",
       "        vertical-align: top;\n",
       "    }\n",
       "\n",
       "    .dataframe thead th {\n",
       "        text-align: right;\n",
       "    }\n",
       "</style>\n",
       "<table border=\"1\" class=\"dataframe\">\n",
       "  <thead>\n",
       "    <tr style=\"text-align: right;\">\n",
       "      <th></th>\n",
       "      <th>Unnamed: 0</th>\n",
       "      <th>BOROUGH</th>\n",
       "      <th>BLOCK</th>\n",
       "      <th>LOT</th>\n",
       "      <th>ZIP CODE</th>\n",
       "      <th>RESIDENTIAL UNITS</th>\n",
       "      <th>COMMERCIAL UNITS</th>\n",
       "      <th>TOTAL UNITS</th>\n",
       "      <th>YEAR BUILT</th>\n",
       "      <th>TAX CLASS AT TIME OF SALE</th>\n",
       "    </tr>\n",
       "  </thead>\n",
       "  <tbody>\n",
       "    <tr>\n",
       "      <th>count</th>\n",
       "      <td>84548.000000</td>\n",
       "      <td>84548.000000</td>\n",
       "      <td>84548.000000</td>\n",
       "      <td>84548.000000</td>\n",
       "      <td>84548.000000</td>\n",
       "      <td>84548.000000</td>\n",
       "      <td>84548.000000</td>\n",
       "      <td>84548.000000</td>\n",
       "      <td>84548.000000</td>\n",
       "      <td>84548.000000</td>\n",
       "    </tr>\n",
       "    <tr>\n",
       "      <th>mean</th>\n",
       "      <td>10344.359878</td>\n",
       "      <td>2.998758</td>\n",
       "      <td>4237.218976</td>\n",
       "      <td>376.224015</td>\n",
       "      <td>10731.991614</td>\n",
       "      <td>2.025264</td>\n",
       "      <td>0.193559</td>\n",
       "      <td>2.249184</td>\n",
       "      <td>1789.322976</td>\n",
       "      <td>1.657485</td>\n",
       "    </tr>\n",
       "    <tr>\n",
       "      <th>std</th>\n",
       "      <td>7151.779436</td>\n",
       "      <td>1.289790</td>\n",
       "      <td>3568.263407</td>\n",
       "      <td>658.136814</td>\n",
       "      <td>1290.879147</td>\n",
       "      <td>16.721037</td>\n",
       "      <td>8.713183</td>\n",
       "      <td>18.972584</td>\n",
       "      <td>537.344993</td>\n",
       "      <td>0.819341</td>\n",
       "    </tr>\n",
       "    <tr>\n",
       "      <th>min</th>\n",
       "      <td>4.000000</td>\n",
       "      <td>1.000000</td>\n",
       "      <td>1.000000</td>\n",
       "      <td>1.000000</td>\n",
       "      <td>0.000000</td>\n",
       "      <td>0.000000</td>\n",
       "      <td>0.000000</td>\n",
       "      <td>0.000000</td>\n",
       "      <td>0.000000</td>\n",
       "      <td>1.000000</td>\n",
       "    </tr>\n",
       "    <tr>\n",
       "      <th>25%</th>\n",
       "      <td>4231.000000</td>\n",
       "      <td>2.000000</td>\n",
       "      <td>1322.750000</td>\n",
       "      <td>22.000000</td>\n",
       "      <td>10305.000000</td>\n",
       "      <td>0.000000</td>\n",
       "      <td>0.000000</td>\n",
       "      <td>1.000000</td>\n",
       "      <td>1920.000000</td>\n",
       "      <td>1.000000</td>\n",
       "    </tr>\n",
       "    <tr>\n",
       "      <th>50%</th>\n",
       "      <td>8942.000000</td>\n",
       "      <td>3.000000</td>\n",
       "      <td>3311.000000</td>\n",
       "      <td>50.000000</td>\n",
       "      <td>11209.000000</td>\n",
       "      <td>1.000000</td>\n",
       "      <td>0.000000</td>\n",
       "      <td>1.000000</td>\n",
       "      <td>1940.000000</td>\n",
       "      <td>2.000000</td>\n",
       "    </tr>\n",
       "    <tr>\n",
       "      <th>75%</th>\n",
       "      <td>15987.250000</td>\n",
       "      <td>4.000000</td>\n",
       "      <td>6281.000000</td>\n",
       "      <td>1001.000000</td>\n",
       "      <td>11357.000000</td>\n",
       "      <td>2.000000</td>\n",
       "      <td>0.000000</td>\n",
       "      <td>2.000000</td>\n",
       "      <td>1965.000000</td>\n",
       "      <td>2.000000</td>\n",
       "    </tr>\n",
       "    <tr>\n",
       "      <th>max</th>\n",
       "      <td>26739.000000</td>\n",
       "      <td>5.000000</td>\n",
       "      <td>16322.000000</td>\n",
       "      <td>9106.000000</td>\n",
       "      <td>11694.000000</td>\n",
       "      <td>1844.000000</td>\n",
       "      <td>2261.000000</td>\n",
       "      <td>2261.000000</td>\n",
       "      <td>2017.000000</td>\n",
       "      <td>4.000000</td>\n",
       "    </tr>\n",
       "  </tbody>\n",
       "</table>\n",
       "</div>"
      ],
      "text/plain": [
       "         Unnamed: 0       BOROUGH         BLOCK           LOT      ZIP CODE  \\\n",
       "count  84548.000000  84548.000000  84548.000000  84548.000000  84548.000000   \n",
       "mean   10344.359878      2.998758   4237.218976    376.224015  10731.991614   \n",
       "std     7151.779436      1.289790   3568.263407    658.136814   1290.879147   \n",
       "min        4.000000      1.000000      1.000000      1.000000      0.000000   \n",
       "25%     4231.000000      2.000000   1322.750000     22.000000  10305.000000   \n",
       "50%     8942.000000      3.000000   3311.000000     50.000000  11209.000000   \n",
       "75%    15987.250000      4.000000   6281.000000   1001.000000  11357.000000   \n",
       "max    26739.000000      5.000000  16322.000000   9106.000000  11694.000000   \n",
       "\n",
       "       RESIDENTIAL UNITS  COMMERCIAL UNITS   TOTAL UNITS    YEAR BUILT  \\\n",
       "count       84548.000000      84548.000000  84548.000000  84548.000000   \n",
       "mean            2.025264          0.193559      2.249184   1789.322976   \n",
       "std            16.721037          8.713183     18.972584    537.344993   \n",
       "min             0.000000          0.000000      0.000000      0.000000   \n",
       "25%             0.000000          0.000000      1.000000   1920.000000   \n",
       "50%             1.000000          0.000000      1.000000   1940.000000   \n",
       "75%             2.000000          0.000000      2.000000   1965.000000   \n",
       "max          1844.000000       2261.000000   2261.000000   2017.000000   \n",
       "\n",
       "       TAX CLASS AT TIME OF SALE  \n",
       "count               84548.000000  \n",
       "mean                    1.657485  \n",
       "std                     0.819341  \n",
       "min                     1.000000  \n",
       "25%                     1.000000  \n",
       "50%                     2.000000  \n",
       "75%                     2.000000  \n",
       "max                     4.000000  "
      ]
     },
     "execution_count": 87,
     "metadata": {},
     "output_type": "execute_result"
    }
   ],
   "source": [
    "df.describe()"
   ]
  },
  {
   "cell_type": "code",
   "execution_count": 88,
   "metadata": {},
   "outputs": [
    {
     "name": "stdout",
     "output_type": "stream",
     "text": [
      "   BOROUGH   NEIGHBORHOOD                      BUILDING CLASS CATEGORY  \\\n",
      "0        1  ALPHABET CITY  07 RENTALS - WALKUP APARTMENTS                \n",
      "1        1  ALPHABET CITY  07 RENTALS - WALKUP APARTMENTS                \n",
      "2        1  ALPHABET CITY  07 RENTALS - WALKUP APARTMENTS                \n",
      "3        1  ALPHABET CITY  07 RENTALS - WALKUP APARTMENTS                \n",
      "4        1  ALPHABET CITY  07 RENTALS - WALKUP APARTMENTS                \n",
      "\n",
      "  TAX CLASS AT PRESENT  BLOCK  LOT BUILDING CLASS AT PRESENT  \\\n",
      "0                   2A    392    6                        C2   \n",
      "1                    2    399   26                        C7   \n",
      "2                    2    399   39                        C7   \n",
      "3                   2B    402   21                        C4   \n",
      "4                   2A    404   55                        C2   \n",
      "\n",
      "                  ADDRESS  ZIP CODE  RESIDENTIAL UNITS  COMMERCIAL UNITS  \\\n",
      "0            153 AVENUE B     10009                  5                 0   \n",
      "1   234 EAST 4TH   STREET     10009                 28                 3   \n",
      "2   197 EAST 3RD   STREET     10009                 16                 1   \n",
      "3     154 EAST 7TH STREET     10009                 10                 0   \n",
      "4  301 EAST 10TH   STREET     10009                  6                 0   \n",
      "\n",
      "   TOTAL UNITS LAND SQUARE FEET GROSS SQUARE FEET  YEAR BUILT  \\\n",
      "0            5             1633              6440        1900   \n",
      "1           31             4616             18690        1900   \n",
      "2           17             2212              7803        1900   \n",
      "3           10             2272              6794        1913   \n",
      "4            6             2369              4615        1900   \n",
      "\n",
      "   TAX CLASS AT TIME OF SALE BUILDING CLASS AT TIME OF SALE SALE PRICE  \\\n",
      "0                          2                             C2    6625000   \n",
      "1                          2                             C7        -     \n",
      "2                          2                             C7        -     \n",
      "3                          2                             C4    3936272   \n",
      "4                          2                             C2    8000000   \n",
      "\n",
      "             SALE DATE  \n",
      "0  2017-07-19 00:00:00  \n",
      "1  2016-12-14 00:00:00  \n",
      "2  2016-12-09 00:00:00  \n",
      "3  2016-09-23 00:00:00  \n",
      "4  2016-11-17 00:00:00  \n"
     ]
    }
   ],
   "source": [
    "# Removing unwanted columns from the dataset\n",
    "df = df.drop('Unnamed: 0', axis = 1)\n",
    "df = df.drop('EASE-MENT', axis = 1)\n",
    "df = df.drop('APARTMENT NUMBER',axis = 1)\n",
    "print(df.head(5))"
   ]
  },
  {
   "cell_type": "code",
   "execution_count": 89,
   "metadata": {},
   "outputs": [
    {
     "name": "stdout",
     "output_type": "stream",
     "text": [
      "(84548, 19)\n"
     ]
    }
   ],
   "source": [
    "# Checking the no. of columns after dropping unwnated columns\n",
    "print(df.shape)"
   ]
  },
  {
   "cell_type": "code",
   "execution_count": 90,
   "metadata": {},
   "outputs": [
    {
     "data": {
      "text/plain": [
       "BOROUGH                            int64\n",
       "NEIGHBORHOOD                      object\n",
       "BUILDING CLASS CATEGORY           object\n",
       "TAX CLASS AT PRESENT              object\n",
       "BLOCK                              int64\n",
       "LOT                                int64\n",
       "BUILDING CLASS AT PRESENT         object\n",
       "ADDRESS                           object\n",
       "ZIP CODE                           int64\n",
       "RESIDENTIAL UNITS                  int64\n",
       "COMMERCIAL UNITS                   int64\n",
       "TOTAL UNITS                        int64\n",
       "LAND SQUARE FEET                  object\n",
       "GROSS SQUARE FEET                 object\n",
       "YEAR BUILT                         int64\n",
       "TAX CLASS AT TIME OF SALE          int64\n",
       "BUILDING CLASS AT TIME OF SALE    object\n",
       "SALE PRICE                        object\n",
       "SALE DATE                         object\n",
       "dtype: object"
      ]
     },
     "execution_count": 90,
     "metadata": {},
     "output_type": "execute_result"
    }
   ],
   "source": [
    "# Checking the datatypes of the dataframe\n",
    "df.dtypes"
   ]
  },
  {
   "cell_type": "code",
   "execution_count": 91,
   "metadata": {},
   "outputs": [
    {
     "data": {
      "text/plain": [
       "4    26736\n",
       "3    24047\n",
       "1    18306\n",
       "5     8410\n",
       "2     7049\n",
       "Name: BOROUGH, dtype: int64"
      ]
     },
     "execution_count": 91,
     "metadata": {},
     "output_type": "execute_result"
    }
   ],
   "source": [
    "df['BOROUGH'].value_counts()"
   ]
  },
  {
   "cell_type": "code",
   "execution_count": 92,
   "metadata": {},
   "outputs": [
    {
     "name": "stdout",
     "output_type": "stream",
     "text": [
      "category\n"
     ]
    }
   ],
   "source": [
    "# Converting columns from object/string to category type\n",
    "df['BOROUGH'] = df['BOROUGH'].astype('category')\n",
    "print(df['BOROUGH'].dtype)\n"
   ]
  },
  {
   "cell_type": "code",
   "execution_count": 93,
   "metadata": {
    "scrolled": true
   },
   "outputs": [
    {
     "data": {
      "text/plain": [
       "1     38633\n",
       "2     30919\n",
       "4      6140\n",
       "2A     2521\n",
       "2C     1915\n",
       "1A     1444\n",
       "1B     1234\n",
       "2B      814\n",
       "        738\n",
       "1C      186\n",
       "3         4\n",
       "Name: TAX CLASS AT PRESENT, dtype: int64"
      ]
     },
     "execution_count": 93,
     "metadata": {},
     "output_type": "execute_result"
    }
   ],
   "source": [
    "df['TAX CLASS AT PRESENT'].value_counts()"
   ]
  },
  {
   "cell_type": "code",
   "execution_count": 94,
   "metadata": {},
   "outputs": [
    {
     "name": "stdout",
     "output_type": "stream",
     "text": [
      "category\n"
     ]
    }
   ],
   "source": [
    "df['TAX CLASS AT PRESENT'] = df['TAX CLASS AT PRESENT'].astype('category')\n",
    "print(df['TAX CLASS AT PRESENT'].dtype)"
   ]
  },
  {
   "cell_type": "code",
   "execution_count": 95,
   "metadata": {},
   "outputs": [
    {
     "data": {
      "text/plain": [
       "1    41533\n",
       "2    36726\n",
       "4     6285\n",
       "3        4\n",
       "Name: TAX CLASS AT TIME OF SALE, dtype: int64"
      ]
     },
     "execution_count": 95,
     "metadata": {},
     "output_type": "execute_result"
    }
   ],
   "source": [
    "df['TAX CLASS AT TIME OF SALE'].value_counts()"
   ]
  },
  {
   "cell_type": "code",
   "execution_count": 98,
   "metadata": {},
   "outputs": [
    {
     "name": "stdout",
     "output_type": "stream",
     "text": [
      "category\n"
     ]
    }
   ],
   "source": [
    "df['TAX CLASS AT TIME OF SALE'] = df['TAX CLASS AT TIME OF SALE'].astype('category')\n",
    "print(df['TAX CLASS AT TIME OF SALE'].dtype)"
   ]
  },
  {
   "cell_type": "code",
   "execution_count": 99,
   "metadata": {},
   "outputs": [
    {
     "name": "stdout",
     "output_type": "stream",
     "text": [
      "float64\n"
     ]
    }
   ],
   "source": [
    "# Converting object/string to integer /float type\n",
    "df['LAND SQUARE FEET'] = pd.to_numeric(df['LAND SQUARE FEET'], errors='coerce')\n",
    "print(df['LAND SQUARE FEET'].dtype)"
   ]
  },
  {
   "cell_type": "code",
   "execution_count": 100,
   "metadata": {},
   "outputs": [
    {
     "name": "stdout",
     "output_type": "stream",
     "text": [
      "float64\n"
     ]
    }
   ],
   "source": [
    "df['GROSS SQUARE FEET'] = pd.to_numeric(df['GROSS SQUARE FEET'], errors='coerce')\n",
    "print(df['GROSS SQUARE FEET'].dtype)"
   ]
  },
  {
   "cell_type": "code",
   "execution_count": 101,
   "metadata": {},
   "outputs": [
    {
     "name": "stdout",
     "output_type": "stream",
     "text": [
      "float64\n"
     ]
    }
   ],
   "source": [
    "df['SALE PRICE'] = pd.to_numeric(df['SALE PRICE'],errors = 'coerce')\n",
    "print(df['SALE PRICE'].dtype)"
   ]
  },
  {
   "cell_type": "code",
   "execution_count": 103,
   "metadata": {},
   "outputs": [
    {
     "data": {
      "text/plain": [
       "BOROUGH                           category\n",
       "NEIGHBORHOOD                        object\n",
       "BUILDING CLASS CATEGORY             object\n",
       "TAX CLASS AT PRESENT              category\n",
       "BLOCK                                int64\n",
       "LOT                                  int64\n",
       "BUILDING CLASS AT PRESENT           object\n",
       "ADDRESS                             object\n",
       "ZIP CODE                             int64\n",
       "RESIDENTIAL UNITS                    int64\n",
       "COMMERCIAL UNITS                     int64\n",
       "TOTAL UNITS                          int64\n",
       "LAND SQUARE FEET                   float64\n",
       "GROSS SQUARE FEET                  float64\n",
       "YEAR BUILT                           int64\n",
       "TAX CLASS AT TIME OF SALE         category\n",
       "BUILDING CLASS AT TIME OF SALE      object\n",
       "SALE PRICE                         float64\n",
       "SALE DATE                           object\n",
       "dtype: object"
      ]
     },
     "execution_count": 103,
     "metadata": {},
     "output_type": "execute_result"
    }
   ],
   "source": [
    "#Check for the datatypes afetr conversion\n",
    "df.dtypes"
   ]
  },
  {
   "cell_type": "code",
   "execution_count": 104,
   "metadata": {},
   "outputs": [
    {
     "name": "stdout",
     "output_type": "stream",
     "text": [
      "BOROUGH                               0\n",
      "NEIGHBORHOOD                          0\n",
      "BUILDING CLASS CATEGORY               0\n",
      "TAX CLASS AT PRESENT                  0\n",
      "BLOCK                                 0\n",
      "LOT                                   0\n",
      "BUILDING CLASS AT PRESENT             0\n",
      "ADDRESS                               0\n",
      "ZIP CODE                              0\n",
      "RESIDENTIAL UNITS                     0\n",
      "COMMERCIAL UNITS                      0\n",
      "TOTAL UNITS                           0\n",
      "LAND SQUARE FEET                  26252\n",
      "GROSS SQUARE FEET                 27612\n",
      "YEAR BUILT                            0\n",
      "TAX CLASS AT TIME OF SALE             0\n",
      "BUILDING CLASS AT TIME OF SALE        0\n",
      "SALE PRICE                        14561\n",
      "SALE DATE                             0\n",
      "dtype: int64\n"
     ]
    }
   ],
   "source": [
    "# Checking for missing values\n",
    "print(df.isna().sum())"
   ]
  },
  {
   "cell_type": "code",
   "execution_count": 105,
   "metadata": {},
   "outputs": [
    {
     "name": "stdout",
     "output_type": "stream",
     "text": [
      "0          1633.0\n",
      "1          4616.0\n",
      "2          2212.0\n",
      "3          2272.0\n",
      "4          2369.0\n",
      "5          2581.0\n",
      "6          1750.0\n",
      "7          5163.0\n",
      "8          1534.0\n",
      "9          4489.0\n",
      "10         4295.0\n",
      "11         3717.0\n",
      "12            NaN\n",
      "13            NaN\n",
      "14            NaN\n",
      "15            NaN\n",
      "16            NaN\n",
      "17            NaN\n",
      "18            NaN\n",
      "19            NaN\n",
      "20            NaN\n",
      "21            NaN\n",
      "22         4131.0\n",
      "23            NaN\n",
      "24            NaN\n",
      "25            NaN\n",
      "26            NaN\n",
      "27            NaN\n",
      "28            NaN\n",
      "29            NaN\n",
      "           ...   \n",
      "84518     11100.0\n",
      "84519     21528.0\n",
      "84520      5260.0\n",
      "84521      8306.0\n",
      "84522      5060.0\n",
      "84523      3288.0\n",
      "84524      2986.0\n",
      "84525      2490.0\n",
      "84526      2337.0\n",
      "84527      2429.0\n",
      "84528      3936.0\n",
      "84529      6268.0\n",
      "84530     10935.0\n",
      "84531      4300.0\n",
      "84532      4700.0\n",
      "84533      3985.0\n",
      "84534      3801.0\n",
      "84535      7885.0\n",
      "84536      3800.0\n",
      "84537      4350.0\n",
      "84538      3215.0\n",
      "84539      3016.0\n",
      "84540      3325.0\n",
      "84541     11088.0\n",
      "84542      3020.0\n",
      "84543      2400.0\n",
      "84544      2498.0\n",
      "84545      4000.0\n",
      "84546    208033.0\n",
      "84547     10796.0\n",
      "Name: LAND SQUARE FEET, Length: 84548, dtype: float64\n"
     ]
    },
    {
     "data": {
      "text/plain": [
       "26252"
      ]
     },
     "execution_count": 105,
     "metadata": {},
     "output_type": "execute_result"
    }
   ],
   "source": [
    "# Replace '-' with NAN in Land square feet and Gross square feet columns\n",
    "df['LAND SQUARE FEET'] = df['LAND SQUARE FEET'].replace('-',numpy.NAN)\n",
    "print(df['LAND SQUARE FEET'])\n",
    "df['LAND SQUARE FEET'].isnull().sum()"
   ]
  },
  {
   "cell_type": "code",
   "execution_count": 106,
   "metadata": {},
   "outputs": [
    {
     "name": "stdout",
     "output_type": "stream",
     "text": [
      "0         6440.0\n",
      "1        18690.0\n",
      "2         7803.0\n",
      "3         6794.0\n",
      "4         4615.0\n",
      "5         9730.0\n",
      "6         4226.0\n",
      "7        21007.0\n",
      "8         9198.0\n",
      "9        18523.0\n",
      "10       21328.0\n",
      "11       12350.0\n",
      "12           NaN\n",
      "13           NaN\n",
      "14           NaN\n",
      "15           NaN\n",
      "16           NaN\n",
      "17           NaN\n",
      "18           NaN\n",
      "19           NaN\n",
      "20           NaN\n",
      "21           NaN\n",
      "22       16776.0\n",
      "23           NaN\n",
      "24           NaN\n",
      "25           NaN\n",
      "26           NaN\n",
      "27           NaN\n",
      "28           NaN\n",
      "29           NaN\n",
      "          ...   \n",
      "84518     3560.0\n",
      "84519     2650.0\n",
      "84520     2600.0\n",
      "84521     2600.0\n",
      "84522     2600.0\n",
      "84523     1916.0\n",
      "84524     1820.0\n",
      "84525     1530.0\n",
      "84526     1964.0\n",
      "84527     1798.0\n",
      "84528     1470.0\n",
      "84529     2206.0\n",
      "84530     2683.0\n",
      "84531     2170.0\n",
      "84532     2170.0\n",
      "84533     2700.0\n",
      "84534     2704.0\n",
      "84535     2704.0\n",
      "84536     2700.0\n",
      "84537     2840.0\n",
      "84538     1300.0\n",
      "84539     1300.0\n",
      "84540     1300.0\n",
      "84541     2160.0\n",
      "84542     1800.0\n",
      "84543     2575.0\n",
      "84544     2377.0\n",
      "84545     1496.0\n",
      "84546    64117.0\n",
      "84547     2400.0\n",
      "Name: GROSS SQUARE FEET, Length: 84548, dtype: float64\n"
     ]
    },
    {
     "data": {
      "text/plain": [
       "27612"
      ]
     },
     "execution_count": 106,
     "metadata": {},
     "output_type": "execute_result"
    }
   ],
   "source": [
    "df['GROSS SQUARE FEET'] = df['GROSS SQUARE FEET'].replace('-',numpy.NAN)\n",
    "print(df['GROSS SQUARE FEET'])\n",
    "df['GROSS SQUARE FEET'].isnull().sum()"
   ]
  },
  {
   "cell_type": "code",
   "execution_count": 107,
   "metadata": {},
   "outputs": [
    {
     "name": "stdout",
     "output_type": "stream",
     "text": [
      "BOROUGH                               0\n",
      "NEIGHBORHOOD                          0\n",
      "BUILDING CLASS CATEGORY               0\n",
      "TAX CLASS AT PRESENT                  0\n",
      "BLOCK                                 0\n",
      "LOT                                   0\n",
      "BUILDING CLASS AT PRESENT             0\n",
      "ADDRESS                               0\n",
      "ZIP CODE                              0\n",
      "RESIDENTIAL UNITS                     0\n",
      "COMMERCIAL UNITS                      0\n",
      "TOTAL UNITS                           0\n",
      "LAND SQUARE FEET                      0\n",
      "GROSS SQUARE FEET                 27612\n",
      "YEAR BUILT                            0\n",
      "TAX CLASS AT TIME OF SALE             0\n",
      "BUILDING CLASS AT TIME OF SALE        0\n",
      "SALE PRICE                        14561\n",
      "SALE DATE                             0\n",
      "dtype: int64\n"
     ]
    }
   ],
   "source": [
    "# Replace the NaN values with mean\n",
    "df['LAND SQUARE FEET'] = df['LAND SQUARE FEET'].fillna(df['LAND SQUARE FEET'].mean())\n",
    "print(df.isnull().sum())"
   ]
  },
  {
   "cell_type": "code",
   "execution_count": 109,
   "metadata": {},
   "outputs": [
    {
     "name": "stdout",
     "output_type": "stream",
     "text": [
      "BOROUGH                               0\n",
      "NEIGHBORHOOD                          0\n",
      "BUILDING CLASS CATEGORY               0\n",
      "TAX CLASS AT PRESENT                  0\n",
      "BLOCK                                 0\n",
      "LOT                                   0\n",
      "BUILDING CLASS AT PRESENT             0\n",
      "ADDRESS                               0\n",
      "ZIP CODE                              0\n",
      "RESIDENTIAL UNITS                     0\n",
      "COMMERCIAL UNITS                      0\n",
      "TOTAL UNITS                           0\n",
      "LAND SQUARE FEET                      0\n",
      "GROSS SQUARE FEET                     0\n",
      "YEAR BUILT                            0\n",
      "TAX CLASS AT TIME OF SALE             0\n",
      "BUILDING CLASS AT TIME OF SALE        0\n",
      "SALE PRICE                        14561\n",
      "SALE DATE                             0\n",
      "dtype: int64\n"
     ]
    }
   ],
   "source": [
    "# Replace the NaN values with mean\n",
    "df['GROSS SQUARE FEET'] = df['GROSS SQUARE FEET'].fillna(df['GROSS SQUARE FEET'].mean())\n",
    "print(df.isnull().sum())"
   ]
  },
  {
   "cell_type": "code",
   "execution_count": 110,
   "metadata": {},
   "outputs": [],
   "source": [
    "df['SALE PRICE'] = df['SALE PRICE'].replace('-', np.nan)\n",
    "df = df.dropna(axis=0, subset=['SALE PRICE'])\n"
   ]
  },
  {
   "cell_type": "code",
   "execution_count": 111,
   "metadata": {},
   "outputs": [
    {
     "name": "stdout",
     "output_type": "stream",
     "text": [
      "BOROUGH                           0\n",
      "NEIGHBORHOOD                      0\n",
      "BUILDING CLASS CATEGORY           0\n",
      "TAX CLASS AT PRESENT              0\n",
      "BLOCK                             0\n",
      "LOT                               0\n",
      "BUILDING CLASS AT PRESENT         0\n",
      "ADDRESS                           0\n",
      "ZIP CODE                          0\n",
      "RESIDENTIAL UNITS                 0\n",
      "COMMERCIAL UNITS                  0\n",
      "TOTAL UNITS                       0\n",
      "LAND SQUARE FEET                  0\n",
      "GROSS SQUARE FEET                 0\n",
      "YEAR BUILT                        0\n",
      "TAX CLASS AT TIME OF SALE         0\n",
      "BUILDING CLASS AT TIME OF SALE    0\n",
      "SALE PRICE                        0\n",
      "SALE DATE                         0\n",
      "dtype: int64\n"
     ]
    }
   ],
   "source": [
    "print(df.isnull().sum())"
   ]
  },
  {
   "cell_type": "code",
   "execution_count": 113,
   "metadata": {},
   "outputs": [
    {
     "name": "stdout",
     "output_type": "stream",
     "text": [
      "  BOROUGH   NEIGHBORHOOD                      BUILDING CLASS CATEGORY  \\\n",
      "0       1  ALPHABET CITY  07 RENTALS - WALKUP APARTMENTS                \n",
      "3       1  ALPHABET CITY  07 RENTALS - WALKUP APARTMENTS                \n",
      "4       1  ALPHABET CITY  07 RENTALS - WALKUP APARTMENTS                \n",
      "6       1  ALPHABET CITY  07 RENTALS - WALKUP APARTMENTS                \n",
      "9       1  ALPHABET CITY  08 RENTALS - ELEVATOR APARTMENTS              \n",
      "\n",
      "  TAX CLASS AT PRESENT  BLOCK  LOT BUILDING CLASS AT PRESENT  \\\n",
      "0                   2A    392    6                        C2   \n",
      "3                   2B    402   21                        C4   \n",
      "4                   2A    404   55                        C2   \n",
      "6                   2B    406   32                        C4   \n",
      "9                    2    387  153                        D9   \n",
      "\n",
      "                  ADDRESS  ZIP CODE  RESIDENTIAL UNITS  COMMERCIAL UNITS  \\\n",
      "0            153 AVENUE B     10009                  5                 0   \n",
      "3     154 EAST 7TH STREET     10009                 10                 0   \n",
      "4  301 EAST 10TH   STREET     10009                  6                 0   \n",
      "6            210 AVENUE B     10009                  8                 0   \n",
      "9     629 EAST 5TH STREET     10009                 24                 0   \n",
      "\n",
      "   TOTAL UNITS  LAND SQUARE FEET  GROSS SQUARE FEET  YEAR BUILT  \\\n",
      "0            5            1633.0             6440.0        1900   \n",
      "3           10            2272.0             6794.0        1913   \n",
      "4            6            2369.0             4615.0        1900   \n",
      "6            8            1750.0             4226.0        1920   \n",
      "9           24            4489.0            18523.0        1920   \n",
      "\n",
      "  TAX CLASS AT TIME OF SALE BUILDING CLASS AT TIME OF SALE  SALE PRICE  \\\n",
      "0                         2                             C2   6625000.0   \n",
      "3                         2                             C4   3936272.0   \n",
      "4                         2                             C2   8000000.0   \n",
      "6                         2                             C4   3192840.0   \n",
      "9                         2                             D9  16232000.0   \n",
      "\n",
      "             SALE DATE  \n",
      "0  2017-07-19 00:00:00  \n",
      "3  2016-09-23 00:00:00  \n",
      "4  2016-11-17 00:00:00  \n",
      "6  2016-09-23 00:00:00  \n",
      "9  2016-11-07 00:00:00  \n"
     ]
    }
   ],
   "source": [
    "print(df.head(5))"
   ]
  },
  {
   "cell_type": "code",
   "execution_count": 116,
   "metadata": {},
   "outputs": [
    {
     "name": "stdout",
     "output_type": "stream",
     "text": [
      "(69987, 19)\n"
     ]
    }
   ],
   "source": [
    "print(df.shape)"
   ]
  },
  {
   "cell_type": "code",
   "execution_count": null,
   "metadata": {},
   "outputs": [],
   "source": []
  }
 ],
 "metadata": {
  "kernelspec": {
   "display_name": "Python 3",
   "language": "python",
   "name": "python3"
  },
  "language_info": {
   "codemirror_mode": {
    "name": "ipython",
    "version": 3
   },
   "file_extension": ".py",
   "mimetype": "text/x-python",
   "name": "python",
   "nbconvert_exporter": "python",
   "pygments_lexer": "ipython3",
   "version": "3.7.0"
  }
 },
 "nbformat": 4,
 "nbformat_minor": 2
}
